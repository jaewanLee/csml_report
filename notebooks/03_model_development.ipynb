{
  "cells": [
    {
      "cell_type": "markdown",
      "metadata": {},
      "source": [
        "# BTC Model Development\n",
        "\n",
        "## Overview\n",
        "This notebook develops the stacking ensemble model for BTC 'Sell' signal prediction:\n",
        "- Level 0 Models: XGBoost, Random Forest, Logistic Regression\n",
        "- Level 1 Meta-Model: Logistic Regression\n",
        "- TimeSeriesSplit cross-validation\n",
        "- Hyperparameter tuning and model evaluation\n",
        "\n",
        "## Model Architecture\n",
        "```\n",
        "Level 0 (Base Models):\n",
        "├── XGBoost (with class weights)\n",
        "├── Random Forest (with class weights)  \n",
        "└── Logistic Regression (with class weights)\n",
        "\n",
        "Level 1 (Meta-Model):\n",
        "└── Logistic Regression (ensemble)\n",
        "```\n",
        "\n",
        "## Key Features\n",
        "- **Class Imbalance Handling**: Using class weights\n",
        "- **Time Series Aware**: No data leakage, proper temporal splits\n",
        "- **Hyperparameter Tuning**: Bayesian optimization for complex models\n",
        "- **Model Interpretability**: SHAP analysis for feature importance\n"
      ]
    },
    {
      "cell_type": "code",
      "execution_count": null,
      "metadata": {},
      "outputs": [],
      "source": [
        "# Import required libraries\n",
        "import pandas as pd\n",
        "import numpy as np\n",
        "import matplotlib.pyplot as plt\n",
        "import seaborn as sns\n",
        "from pathlib import Path\n",
        "import warnings\n",
        "warnings.filterwarnings('ignore')\n",
        "\n",
        "# ML libraries\n",
        "from sklearn.model_selection import TimeSeriesSplit, GridSearchCV\n",
        "from sklearn.ensemble import RandomForestClassifier\n",
        "from sklearn.linear_model import LogisticRegression\n",
        "from sklearn.metrics import classification_report, confusion_matrix, roc_auc_score\n",
        "import xgboost as xgb\n",
        "from skopt import BayesSearchCV\n",
        "import shap\n",
        "\n",
        "# Set plotting style\n",
        "plt.style.use('seaborn-v0_8')\n",
        "sns.set_palette(\"husl\")\n",
        "\n",
        "print(\"Libraries imported successfully!\")\n"
      ]
    }
  ],
  "metadata": {
    "language_info": {
      "name": "python"
    }
  },
  "nbformat": 4,
  "nbformat_minor": 2
}

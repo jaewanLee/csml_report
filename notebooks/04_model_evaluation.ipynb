{
  "cells": [
    {
      "cell_type": "markdown",
      "metadata": {},
      "source": [
        "# BTC Model Evaluation\n",
        "\n",
        "## Overview\n",
        "This notebook evaluates the final stacking ensemble model:\n",
        "- Final test set evaluation (2024-present)\n",
        "- Performance metrics analysis\n",
        "- Model interpretability with SHAP\n",
        "- Backtesting and walk-forward analysis\n",
        "- Risk assessment and trading simulation\n",
        "\n",
        "## Evaluation Metrics\n",
        "- **Primary**: F1-Score (target: ≥0.70)\n",
        "- **Secondary**: Precision, Recall, ROC-AUC\n",
        "- **Risk**: False Positive Rate, Maximum Drawdown\n",
        "- **Business**: Profit/Loss simulation\n",
        "\n",
        "## Analysis Components\n",
        "1. **Model Performance**: Comprehensive metrics\n",
        "2. **Feature Importance**: SHAP analysis\n",
        "3. **Error Analysis**: Misclassification patterns\n",
        "4. **Temporal Analysis**: Performance over time\n",
        "5. **Risk Assessment**: Trading simulation results\n"
      ]
    },
    {
      "cell_type": "code",
      "execution_count": null,
      "metadata": {},
      "outputs": [],
      "source": [
        "# Import required libraries\n",
        "import pandas as pd\n",
        "import numpy as np\n",
        "import matplotlib.pyplot as plt\n",
        "import seaborn as sns\n",
        "from pathlib import Path\n",
        "import warnings\n",
        "warnings.filterwarnings('ignore')\n",
        "\n",
        "# ML and evaluation libraries\n",
        "from sklearn.metrics import classification_report, confusion_matrix, roc_auc_score, roc_curve\n",
        "from sklearn.model_selection import cross_val_score\n",
        "import shap\n",
        "import joblib\n",
        "import pickle\n",
        "\n",
        "# Set plotting style\n",
        "plt.style.use('seaborn-v0_8')\n",
        "sns.set_palette(\"husl\")\n",
        "\n",
        "print(\"Libraries imported successfully!\")\n"
      ]
    }
  ],
  "metadata": {
    "language_info": {
      "name": "python"
    }
  },
  "nbformat": 4,
  "nbformat_minor": 2
}

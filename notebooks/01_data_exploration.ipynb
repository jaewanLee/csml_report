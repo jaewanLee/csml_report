{
  "cells": [
    {
      "cell_type": "markdown",
      "metadata": {},
      "source": [
        "# BTC Data Exploration\n",
        "\n",
        "## Overview\n",
        "This notebook explores the collected BTC data from different timeframes (4h, 1d, 1w) to understand:\n",
        "- Data quality and completeness\n",
        "- Price patterns and trends\n",
        "- Volume analysis\n",
        "- Data distribution across timeframes\n",
        "\n",
        "## Data Sources\n",
        "- **4h timeframe**: High-frequency data for detailed analysis\n",
        "- **1d timeframe**: Daily patterns and trends\n",
        "- **1w timeframe**: Weekly macro trends\n",
        "\n",
        "## Objectives\n",
        "1. Load and examine collected data\n",
        "2. Perform basic statistical analysis\n",
        "3. Visualize price and volume patterns\n",
        "4. Identify data quality issues\n",
        "5. Prepare data for feature engineering\n"
      ]
    },
    {
      "cell_type": "code",
      "execution_count": 1,
      "metadata": {},
      "outputs": [],
      "source": [
        "# Import required libraries\n",
        "import pandas as pd\n",
        "import numpy as np\n",
        "import matplotlib.pyplot as plt\n",
        "import seaborn as sns\n",
        "from pathlib import Path\n",
        "import warnings\n",
        "warnings.filterwarnings('ignore')\n",
        "\n",
        "# Set plotting style\n",
        "plt.style.use('seaborn-v0_8')\n",
        "sns.set_palette(\"husl\")\n",
        "\n",
        "# Set display options\n",
        "pd.set_option('display.max_columns', None)\n",
        "pd.set_option('display.width', None)\n",
        "pd.set_option('display.max_colwidth', None)\n"
      ]
    },
    {
      "cell_type": "markdown",
      "metadata": {},
      "source": [
        "## 1. Load Data\n"
      ]
    },
    {
      "cell_type": "code",
      "execution_count": 3,
      "metadata": {},
      "outputs": [
        {
          "name": "stdout",
          "output_type": "stream",
          "text": [
            "Data directory: /Users/al02260279/Documents/private/btc_prediction/notebooks/../data_collection/data\n",
            "Directory exists: True\n"
          ]
        }
      ],
      "source": [
        "data_dir = Path('../data_collection/data')\n",
        "print(f\"Data directory: {data_dir.absolute()}\")\n",
        "print(f\"Directory exists: {data_dir.exists()}\")"
      ]
    },
    {
      "cell_type": "code",
      "execution_count": 4,
      "metadata": {},
      "outputs": [
        {
          "name": "stdout",
          "output_type": "stream",
          "text": [
            "Parquet files found: [PosixPath('../data_collection/data/btc_1w_20251020.parquet'), PosixPath('../data_collection/data/btc_4h_20251020.parquet'), PosixPath('../data_collection/data/btc_1d_20251020.parquet')]\n",
            "  - btc_1w_20251020.parquet\n",
            "  - btc_4h_20251020.parquet\n",
            "  - btc_1d_20251020.parquet\n"
          ]
        }
      ],
      "source": [
        "if data_dir.exists():\n",
        "    files = list(data_dir.glob('*.parquet'))\n",
        "    print(f\"Parquet files found: {files}\")\n",
        "    for file in files:\n",
        "        print(f\"  - {file.name}\")\n",
        "else:\n",
        "    print(\"Data directory does not exist!\")"
      ]
    },
    {
      "cell_type": "code",
      "execution_count": 14,
      "metadata": {},
      "outputs": [
        {
          "name": "stdout",
          "output_type": "stream",
          "text": [
            "4h data shape: (11925, 5)\n",
            "1d data shape: (1988, 5)\n",
            "1w data shape: (284, 5)\n"
          ]
        }
      ],
      "source": [
        "# Load data from parquet files\n",
        "data_dir = Path('../data_collection/data')\n",
        "\n",
        "# Load different timeframes\n",
        "data_4h = pd.read_parquet(data_dir / 'btc_4h_20251020.parquet')  # Use actual filename\n",
        "data_1d = pd.read_parquet(data_dir / 'btc_1d_20251020.parquet')\n",
        "data_1w = pd.read_parquet(data_dir / 'btc_1w_20251020.parquet')\n",
        "\n",
        "print(f\"4h data shape: {data_4h.shape}\")\n",
        "print(f\"1d data shape: {data_1d.shape}\")\n",
        "print(f\"1w data shape: {data_1w.shape}\")\n"
      ]
    },
    {
      "cell_type": "code",
      "execution_count": null,
      "metadata": {},
      "outputs": [
        {
          "name": "stdout",
          "output_type": "stream",
          "text": [
            "                          open       high        low      close      volume\n",
            "timestamp                                                                  \n",
            "2025-10-19 04:00:00  107275.79  107290.00  106558.61  106786.00  1247.19589\n",
            "2025-10-19 08:00:00  106786.00  108260.50  106103.36  107783.47  5059.55867\n",
            "2025-10-19 12:00:00  107783.47  108621.68  107355.02  108486.70  3636.47308\n",
            "2025-10-19 16:00:00  108486.71  109450.07  108240.00  108908.43  2430.56297\n",
            "2025-10-19 20:00:00  108908.43  109370.99  108471.10  108642.78  2048.76152\n",
            "(11922, 5)\n"
          ]
        }
      ],
      "source": [
        "data_4h=data_4h[~data_4h.index.isin([\"2025-10-20 00:00:00\",\"2025-10-20 04:00:00\",\"2025-10-20 08:00:00\"])]"
      ]
    },
    {
      "cell_type": "code",
      "execution_count": 23,
      "metadata": {},
      "outputs": [
        {
          "name": "stdout",
          "output_type": "stream",
          "text": [
            "                        open     high      low    close        volume\n",
            "timestamp                                                            \n",
            "2020-05-12 00:00:00  8562.04  8742.43  8528.78  8716.07  11224.925222\n",
            "2020-05-12 04:00:00  8716.75  8785.00  8614.98  8656.05  10948.791761\n",
            "2020-05-12 08:00:00  8655.76  8828.72  8632.93  8800.92  14846.694767\n",
            "2020-05-12 12:00:00  8800.91  8944.72  8659.00  8867.72  22551.312510\n",
            "2020-05-12 16:00:00  8867.72  8978.26  8775.00  8792.19  17005.945766\n",
            "                          open       high        low      close      volume\n",
            "timestamp                                                                  \n",
            "2025-10-19 04:00:00  107275.79  107290.00  106558.61  106786.00  1247.19589\n",
            "2025-10-19 08:00:00  106786.00  108260.50  106103.36  107783.47  5059.55867\n",
            "2025-10-19 12:00:00  107783.47  108621.68  107355.02  108486.70  3636.47308\n",
            "2025-10-19 16:00:00  108486.71  109450.07  108240.00  108908.43  2430.56297\n",
            "2025-10-19 20:00:00  108908.43  109370.99  108471.10  108642.78  2048.76152\n",
            "(11922, 5)\n",
            "126199.63\n",
            "8528.78\n"
          ]
        }
      ],
      "source": [
        "print(data_4h.head(5))\n",
        "print(data_4h.tail(5))\n",
        "print(data_4h.shape)\n",
        "print(data_4h[\"high\"].max())\n",
        "print(data_4h[\"low\"].min())"
      ]
    },
    {
      "cell_type": "code",
      "execution_count": 19,
      "metadata": {},
      "outputs": [],
      "source": [
        "data_1d=data_1d[~data_1d.index.isin([\"2025-10-20\"])]"
      ]
    },
    {
      "cell_type": "code",
      "execution_count": 24,
      "metadata": {},
      "outputs": [
        {
          "name": "stdout",
          "output_type": "stream",
          "text": [
            "               open     high      low    close         volume\n",
            "timestamp                                                    \n",
            "2020-05-12  8562.04  8978.26  8528.78  8810.79   86522.780066\n",
            "2020-05-13  8810.99  9398.00  8792.99  9309.37   92466.274018\n",
            "2020-05-14  9309.35  9939.00  9256.76  9791.98  129565.377470\n",
            "2020-05-15  9791.97  9845.62  9150.00  9316.42  115890.761516\n",
            "2020-05-16  9315.96  9588.00  9220.00  9381.27   59587.627862\n",
            "                 open       high        low      close       volume\n",
            "timestamp                                                          \n",
            "2025-10-15  113028.13  113612.35  110164.00  110763.28  22986.48811\n",
            "2025-10-16  110763.28  111982.45  107427.00  108194.28  29857.17252\n",
            "2025-10-17  108194.27  109240.00  103528.23  106431.68  37920.66838\n",
            "2025-10-18  106431.68  107499.00  106322.20  107185.01  11123.18766\n",
            "2025-10-19  107185.00  109450.07  106103.36  108642.78  15480.66423\n",
            "(1987, 5)\n",
            "126199.63\n",
            "8528.78\n"
          ]
        }
      ],
      "source": [
        "print(data_1d.head(5))\n",
        "print(data_1d.tail(5))\n",
        "print(data_1d.shape)\n",
        "print(data_1d[\"high\"].max())\n",
        "print(data_1d[\"low\"].min())"
      ]
    },
    {
      "cell_type": "code",
      "execution_count": 21,
      "metadata": {},
      "outputs": [],
      "source": [
        "data_1w=data_1w[~data_1w.index.isin([\"2025-10-20\"])]"
      ]
    },
    {
      "cell_type": "code",
      "execution_count": 25,
      "metadata": {},
      "outputs": [
        {
          "name": "stdout",
          "output_type": "stream",
          "text": [
            "               open      high      low    close         volume\n",
            "timestamp                                                     \n",
            "2020-05-18  9681.11   9950.00  8700.00  8720.34  517248.177536\n",
            "2020-05-25  8718.14   9740.00  8642.72  9448.27  425528.246167\n",
            "2020-06-01  9448.27  10380.00  9266.00  9746.99  427822.495347\n",
            "2020-06-08  9746.99   9992.72  9113.00  9342.10  336172.771517\n",
            "2020-06-15  9342.10   9589.00  8910.45  9294.69  323565.711842\n",
            "                 open       high        low      close         volume\n",
            "timestamp                                                            \n",
            "2025-09-15  115268.01  117900.00  114384.00  115232.29   70729.440300\n",
            "2025-09-22  115232.29  115379.25  108620.07  112163.95   93970.577040\n",
            "2025-09-29  112163.96  125708.42  111560.65  123482.31  124480.098903\n",
            "2025-10-06  123482.32  126199.63  102000.00  114958.80  211576.359223\n",
            "2025-10-13  114958.81  115963.81  103528.23  108642.78  171795.750970\n",
            "(283, 5)\n",
            "126199.63\n",
            "8642.72\n"
          ]
        }
      ],
      "source": [
        "print(data_1w.head(5))\n",
        "print(data_1w.tail(5))\n",
        "print(data_1w.shape)\n",
        "print(data_1w[\"high\"].max())\n",
        "print(data_1w[\"low\"].min())"
      ]
    },
    {
      "cell_type": "code",
      "execution_count": null,
      "metadata": {},
      "outputs": [],
      "source": []
    },
    {
      "cell_type": "markdown",
      "metadata": {},
      "source": []
    },
    {
      "cell_type": "markdown",
      "metadata": {},
      "source": []
    }
  ],
  "metadata": {
    "kernelspec": {
      "display_name": "csml",
      "language": "python",
      "name": "python3"
    },
    "language_info": {
      "codemirror_mode": {
        "name": "ipython",
        "version": 3
      },
      "file_extension": ".py",
      "mimetype": "text/x-python",
      "name": "python",
      "nbconvert_exporter": "python",
      "pygments_lexer": "ipython3",
      "version": "3.13.7"
    }
  },
  "nbformat": 4,
  "nbformat_minor": 2
}

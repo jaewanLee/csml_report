{
  "cells": [
    {
      "cell_type": "markdown",
      "metadata": {},
      "source": [
        "# BTC Data Exploration\n",
        "\n",
        "## Overview\n",
        "This notebook explores the collected BTC data from different timeframes (4h, 1d, 1w) to understand:\n",
        "- Data quality and completeness\n",
        "- Price patterns and trends\n",
        "- Volume analysis\n",
        "- Data distribution across timeframes\n",
        "\n",
        "## Data Sources\n",
        "- **4h timeframe**: High-frequency data for detailed analysis\n",
        "- **1d timeframe**: Daily patterns and trends\n",
        "- **1w timeframe**: Weekly macro trends\n",
        "\n",
        "## Objectives\n",
        "1. Load and examine collected data\n",
        "2. Perform basic statistical analysis\n",
        "3. Visualize price and volume patterns\n",
        "4. Identify data quality issues\n",
        "5. Prepare data for feature engineering\n"
      ]
    },
    {
      "cell_type": "code",
      "execution_count": 1,
      "metadata": {},
      "outputs": [],
      "source": [
        "# Import required libraries\n",
        "import pandas as pd\n",
        "import numpy as np\n",
        "import matplotlib.pyplot as plt\n",
        "import seaborn as sns\n",
        "from pathlib import Path\n",
        "import warnings\n",
        "warnings.filterwarnings('ignore')\n",
        "\n",
        "# Set plotting style\n",
        "plt.style.use('seaborn-v0_8')\n",
        "sns.set_palette(\"husl\")\n",
        "\n",
        "# Set display options\n",
        "pd.set_option('display.max_columns', None)\n",
        "pd.set_option('display.width', None)\n",
        "pd.set_option('display.max_colwidth', None)\n"
      ]
    },
    {
      "cell_type": "markdown",
      "metadata": {},
      "source": [
        "## 1. Load Data\n"
      ]
    },
    {
      "cell_type": "code",
      "execution_count": 3,
      "metadata": {},
      "outputs": [
        {
          "name": "stdout",
          "output_type": "stream",
          "text": [
            "Data directory: /Users/al02260279/Documents/private/btc_prediction/notebooks/../data_collection/data\n",
            "Directory exists: True\n"
          ]
        }
      ],
      "source": [
        "data_dir = Path('../data_collection/data')\n",
        "print(f\"Data directory: {data_dir.absolute()}\")\n",
        "print(f\"Directory exists: {data_dir.exists()}\")"
      ]
    },
    {
      "cell_type": "code",
      "execution_count": 4,
      "metadata": {},
      "outputs": [
        {
          "name": "stdout",
          "output_type": "stream",
          "text": [
            "Parquet files found: [PosixPath('../data_collection/data/btc_1w_20251020.parquet'), PosixPath('../data_collection/data/btc_4h_20251020.parquet'), PosixPath('../data_collection/data/btc_1d_20251020.parquet')]\n",
            "  - btc_1w_20251020.parquet\n",
            "  - btc_4h_20251020.parquet\n",
            "  - btc_1d_20251020.parquet\n"
          ]
        }
      ],
      "source": [
        "if data_dir.exists():\n",
        "    files = list(data_dir.glob('*.parquet'))\n",
        "    print(f\"Parquet files found: {files}\")\n",
        "    for file in files:\n",
        "        print(f\"  - {file.name}\")\n",
        "else:\n",
        "    print(\"Data directory does not exist!\")"
      ]
    },
    {
      "cell_type": "code",
      "execution_count": null,
      "metadata": {},
      "outputs": [],
      "source": []
    },
    {
      "cell_type": "code",
      "execution_count": 6,
      "metadata": {},
      "outputs": [
        {
          "name": "stdout",
          "output_type": "stream",
          "text": [
            "4h data shape: (11925, 5)\n",
            "1d data shape: (1988, 5)\n",
            "1w data shape: (284, 5)\n"
          ]
        }
      ],
      "source": [
        "# Load data from parquet files\n",
        "data_dir = Path('../data_collection/data')\n",
        "\n",
        "# Load different timeframes\n",
        "data_4h = pd.read_parquet(data_dir / 'btc_4h_20251020.parquet')  # Use actual filename\n",
        "data_1d = pd.read_parquet(data_dir / 'btc_1d_20251020.parquet')\n",
        "data_1w = pd.read_parquet(data_dir / 'btc_1w_20251020.parquet')\n",
        "\n",
        "print(f\"4h data shape: {data_4h.shape}\")\n",
        "print(f\"1d data shape: {data_1d.shape}\")\n",
        "print(f\"1w data shape: {data_1w.shape}\")\n"
      ]
    },
    {
      "cell_type": "code",
      "execution_count": 13,
      "metadata": {},
      "outputs": [
        {
          "data": {
            "text/html": [
              "<div>\n",
              "<style scoped>\n",
              "    .dataframe tbody tr th:only-of-type {\n",
              "        vertical-align: middle;\n",
              "    }\n",
              "\n",
              "    .dataframe tbody tr th {\n",
              "        vertical-align: top;\n",
              "    }\n",
              "\n",
              "    .dataframe thead th {\n",
              "        text-align: right;\n",
              "    }\n",
              "</style>\n",
              "<table border=\"1\" class=\"dataframe\">\n",
              "  <thead>\n",
              "    <tr style=\"text-align: right;\">\n",
              "      <th></th>\n",
              "      <th>open</th>\n",
              "      <th>high</th>\n",
              "      <th>low</th>\n",
              "      <th>close</th>\n",
              "      <th>volume</th>\n",
              "    </tr>\n",
              "    <tr>\n",
              "      <th>timestamp</th>\n",
              "      <th></th>\n",
              "      <th></th>\n",
              "      <th></th>\n",
              "      <th></th>\n",
              "      <th></th>\n",
              "    </tr>\n",
              "  </thead>\n",
              "  <tbody>\n",
              "    <tr>\n",
              "      <th>2025-10-19 04:00:00</th>\n",
              "      <td>107275.79</td>\n",
              "      <td>107290.00</td>\n",
              "      <td>106558.61</td>\n",
              "      <td>106786.00</td>\n",
              "      <td>1247.19589</td>\n",
              "    </tr>\n",
              "    <tr>\n",
              "      <th>2025-10-19 08:00:00</th>\n",
              "      <td>106786.00</td>\n",
              "      <td>108260.50</td>\n",
              "      <td>106103.36</td>\n",
              "      <td>107783.47</td>\n",
              "      <td>5059.55867</td>\n",
              "    </tr>\n",
              "    <tr>\n",
              "      <th>2025-10-19 12:00:00</th>\n",
              "      <td>107783.47</td>\n",
              "      <td>108621.68</td>\n",
              "      <td>107355.02</td>\n",
              "      <td>108486.70</td>\n",
              "      <td>3636.47308</td>\n",
              "    </tr>\n",
              "    <tr>\n",
              "      <th>2025-10-19 16:00:00</th>\n",
              "      <td>108486.71</td>\n",
              "      <td>109450.07</td>\n",
              "      <td>108240.00</td>\n",
              "      <td>108908.43</td>\n",
              "      <td>2430.56297</td>\n",
              "    </tr>\n",
              "    <tr>\n",
              "      <th>2025-10-19 20:00:00</th>\n",
              "      <td>108908.43</td>\n",
              "      <td>109370.99</td>\n",
              "      <td>108471.10</td>\n",
              "      <td>108642.78</td>\n",
              "      <td>2048.76152</td>\n",
              "    </tr>\n",
              "  </tbody>\n",
              "</table>\n",
              "</div>"
            ],
            "text/plain": [
              "                          open       high        low      close      volume\n",
              "timestamp                                                                  \n",
              "2025-10-19 04:00:00  107275.79  107290.00  106558.61  106786.00  1247.19589\n",
              "2025-10-19 08:00:00  106786.00  108260.50  106103.36  107783.47  5059.55867\n",
              "2025-10-19 12:00:00  107783.47  108621.68  107355.02  108486.70  3636.47308\n",
              "2025-10-19 16:00:00  108486.71  109450.07  108240.00  108908.43  2430.56297\n",
              "2025-10-19 20:00:00  108908.43  109370.99  108471.10  108642.78  2048.76152"
            ]
          },
          "execution_count": 13,
          "metadata": {},
          "output_type": "execute_result"
        }
      ],
      "source": [
        "data_4h=data_4h[~data_4h.index.isin([\"2025-10-20 00:00:00\",\"2025-10-20 04:00:00\",\"2025-10-20 08:00:00\"])]\n",
        "data_4h.tail(5)\n"
      ]
    },
    {
      "cell_type": "code",
      "execution_count": 12,
      "metadata": {},
      "outputs": [
        {
          "data": {
            "text/html": [
              "<div>\n",
              "<style scoped>\n",
              "    .dataframe tbody tr th:only-of-type {\n",
              "        vertical-align: middle;\n",
              "    }\n",
              "\n",
              "    .dataframe tbody tr th {\n",
              "        vertical-align: top;\n",
              "    }\n",
              "\n",
              "    .dataframe thead th {\n",
              "        text-align: right;\n",
              "    }\n",
              "</style>\n",
              "<table border=\"1\" class=\"dataframe\">\n",
              "  <thead>\n",
              "    <tr style=\"text-align: right;\">\n",
              "      <th></th>\n",
              "      <th>open</th>\n",
              "      <th>high</th>\n",
              "      <th>low</th>\n",
              "      <th>close</th>\n",
              "      <th>volume</th>\n",
              "    </tr>\n",
              "    <tr>\n",
              "      <th>timestamp</th>\n",
              "      <th></th>\n",
              "      <th></th>\n",
              "      <th></th>\n",
              "      <th></th>\n",
              "      <th></th>\n",
              "    </tr>\n",
              "  </thead>\n",
              "  <tbody>\n",
              "    <tr>\n",
              "      <th>2025-10-15</th>\n",
              "      <td>113028.13</td>\n",
              "      <td>113612.35</td>\n",
              "      <td>110164.00</td>\n",
              "      <td>110763.28</td>\n",
              "      <td>22986.48811</td>\n",
              "    </tr>\n",
              "    <tr>\n",
              "      <th>2025-10-16</th>\n",
              "      <td>110763.28</td>\n",
              "      <td>111982.45</td>\n",
              "      <td>107427.00</td>\n",
              "      <td>108194.28</td>\n",
              "      <td>29857.17252</td>\n",
              "    </tr>\n",
              "    <tr>\n",
              "      <th>2025-10-17</th>\n",
              "      <td>108194.27</td>\n",
              "      <td>109240.00</td>\n",
              "      <td>103528.23</td>\n",
              "      <td>106431.68</td>\n",
              "      <td>37920.66838</td>\n",
              "    </tr>\n",
              "    <tr>\n",
              "      <th>2025-10-18</th>\n",
              "      <td>106431.68</td>\n",
              "      <td>107499.00</td>\n",
              "      <td>106322.20</td>\n",
              "      <td>107185.01</td>\n",
              "      <td>11123.18766</td>\n",
              "    </tr>\n",
              "    <tr>\n",
              "      <th>2025-10-19</th>\n",
              "      <td>107185.00</td>\n",
              "      <td>109450.07</td>\n",
              "      <td>106103.36</td>\n",
              "      <td>108642.78</td>\n",
              "      <td>15480.66423</td>\n",
              "    </tr>\n",
              "  </tbody>\n",
              "</table>\n",
              "</div>"
            ],
            "text/plain": [
              "                 open       high        low      close       volume\n",
              "timestamp                                                          \n",
              "2025-10-15  113028.13  113612.35  110164.00  110763.28  22986.48811\n",
              "2025-10-16  110763.28  111982.45  107427.00  108194.28  29857.17252\n",
              "2025-10-17  108194.27  109240.00  103528.23  106431.68  37920.66838\n",
              "2025-10-18  106431.68  107499.00  106322.20  107185.01  11123.18766\n",
              "2025-10-19  107185.00  109450.07  106103.36  108642.78  15480.66423"
            ]
          },
          "execution_count": 12,
          "metadata": {},
          "output_type": "execute_result"
        }
      ],
      "source": [
        "data_1d=data_1d[~data_1d.index.isin([\"2025-10-20\"])]\n",
        "data_1d.tail(5)"
      ]
    },
    {
      "cell_type": "code",
      "execution_count": 11,
      "metadata": {},
      "outputs": [
        {
          "data": {
            "text/html": [
              "<div>\n",
              "<style scoped>\n",
              "    .dataframe tbody tr th:only-of-type {\n",
              "        vertical-align: middle;\n",
              "    }\n",
              "\n",
              "    .dataframe tbody tr th {\n",
              "        vertical-align: top;\n",
              "    }\n",
              "\n",
              "    .dataframe thead th {\n",
              "        text-align: right;\n",
              "    }\n",
              "</style>\n",
              "<table border=\"1\" class=\"dataframe\">\n",
              "  <thead>\n",
              "    <tr style=\"text-align: right;\">\n",
              "      <th></th>\n",
              "      <th>open</th>\n",
              "      <th>high</th>\n",
              "      <th>low</th>\n",
              "      <th>close</th>\n",
              "      <th>volume</th>\n",
              "    </tr>\n",
              "    <tr>\n",
              "      <th>timestamp</th>\n",
              "      <th></th>\n",
              "      <th></th>\n",
              "      <th></th>\n",
              "      <th></th>\n",
              "      <th></th>\n",
              "    </tr>\n",
              "  </thead>\n",
              "  <tbody>\n",
              "    <tr>\n",
              "      <th>2025-09-15</th>\n",
              "      <td>115268.01</td>\n",
              "      <td>117900.00</td>\n",
              "      <td>114384.00</td>\n",
              "      <td>115232.29</td>\n",
              "      <td>70729.440300</td>\n",
              "    </tr>\n",
              "    <tr>\n",
              "      <th>2025-09-22</th>\n",
              "      <td>115232.29</td>\n",
              "      <td>115379.25</td>\n",
              "      <td>108620.07</td>\n",
              "      <td>112163.95</td>\n",
              "      <td>93970.577040</td>\n",
              "    </tr>\n",
              "    <tr>\n",
              "      <th>2025-09-29</th>\n",
              "      <td>112163.96</td>\n",
              "      <td>125708.42</td>\n",
              "      <td>111560.65</td>\n",
              "      <td>123482.31</td>\n",
              "      <td>124480.098903</td>\n",
              "    </tr>\n",
              "    <tr>\n",
              "      <th>2025-10-06</th>\n",
              "      <td>123482.32</td>\n",
              "      <td>126199.63</td>\n",
              "      <td>102000.00</td>\n",
              "      <td>114958.80</td>\n",
              "      <td>211576.359223</td>\n",
              "    </tr>\n",
              "    <tr>\n",
              "      <th>2025-10-13</th>\n",
              "      <td>114958.81</td>\n",
              "      <td>115963.81</td>\n",
              "      <td>103528.23</td>\n",
              "      <td>108642.78</td>\n",
              "      <td>171795.750970</td>\n",
              "    </tr>\n",
              "  </tbody>\n",
              "</table>\n",
              "</div>"
            ],
            "text/plain": [
              "                 open       high        low      close         volume\n",
              "timestamp                                                            \n",
              "2025-09-15  115268.01  117900.00  114384.00  115232.29   70729.440300\n",
              "2025-09-22  115232.29  115379.25  108620.07  112163.95   93970.577040\n",
              "2025-09-29  112163.96  125708.42  111560.65  123482.31  124480.098903\n",
              "2025-10-06  123482.32  126199.63  102000.00  114958.80  211576.359223\n",
              "2025-10-13  114958.81  115963.81  103528.23  108642.78  171795.750970"
            ]
          },
          "execution_count": 11,
          "metadata": {},
          "output_type": "execute_result"
        }
      ],
      "source": [
        "data_1w=data_1w[~data_1w.index.isin([\"2025-10-20\"])]\n",
        "data_1w.tail(5)"
      ]
    },
    {
      "cell_type": "code",
      "execution_count": null,
      "metadata": {},
      "outputs": [],
      "source": []
    },
    {
      "cell_type": "code",
      "execution_count": null,
      "metadata": {},
      "outputs": [],
      "source": []
    },
    {
      "cell_type": "code",
      "execution_count": null,
      "metadata": {},
      "outputs": [],
      "source": []
    },
    {
      "cell_type": "code",
      "execution_count": null,
      "metadata": {},
      "outputs": [],
      "source": []
    }
  ],
  "metadata": {
    "kernelspec": {
      "display_name": "csml",
      "language": "python",
      "name": "python3"
    },
    "language_info": {
      "codemirror_mode": {
        "name": "ipython",
        "version": 3
      },
      "file_extension": ".py",
      "mimetype": "text/x-python",
      "name": "python",
      "nbconvert_exporter": "python",
      "pygments_lexer": "ipython3",
      "version": "3.13.7"
    }
  },
  "nbformat": 4,
  "nbformat_minor": 2
}

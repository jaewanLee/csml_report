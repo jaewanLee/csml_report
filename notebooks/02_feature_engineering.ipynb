{
  "cells": [
    {
      "cell_type": "markdown",
      "metadata": {},
      "source": [
        "# BTC Feature Engineering\n",
        "\n",
        "## Overview\n",
        "This notebook creates technical indicators and features for the BTC prediction model:\n",
        "- Technical indicators (RSI, MACD, Moving Averages, Ichimoku)\n",
        "- Price-based features (OHLCV derivatives)\n",
        "- Target variable creation (Sell signal detection)\n",
        "- Feature selection and preprocessing\n",
        "\n",
        "## Technical Indicators to Implement\n",
        "1. **RSI (Relative Strength Index)**: Momentum oscillator\n",
        "2. **MACD (Moving Average Convergence Divergence)**: Trend following\n",
        "3. **Moving Averages**: SMA, EMA for different periods\n",
        "4. **Ichimoku Cloud**: Comprehensive trend analysis\n",
        "5. **Bollinger Bands**: Volatility indicators\n",
        "6. **Volume indicators**: Volume-based features\n",
        "\n",
        "## Target Variable\n",
        "- **Sell Signal**: -15% price drop within 30-day window\n",
        "- **Price Calculation**: Current close → lowest LOW price\n",
        "- **Priority**: SELL > BUY > WAIT (first seen rule)\n"
      ]
    },
    {
      "cell_type": "code",
      "execution_count": null,
      "metadata": {},
      "outputs": [],
      "source": [
        "# Import required libraries\n",
        "import pandas as pd\n",
        "import numpy as np\n",
        "import matplotlib.pyplot as plt\n",
        "import seaborn as sns\n",
        "from pathlib import Path\n",
        "import talib\n",
        "import warnings\n",
        "warnings.filterwarnings('ignore')\n",
        "\n",
        "# Set plotting style\n",
        "plt.style.use('seaborn-v0_8')\n",
        "sns.set_palette(\"husl\")\n",
        "\n",
        "print(\"Libraries imported successfully!\")\n"
      ]
    }
  ],
  "metadata": {
    "language_info": {
      "name": "python"
    }
  },
  "nbformat": 4,
  "nbformat_minor": 2
}
